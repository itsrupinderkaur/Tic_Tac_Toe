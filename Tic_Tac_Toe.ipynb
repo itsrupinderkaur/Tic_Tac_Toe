{
 "cells": [
  {
   "cell_type": "code",
   "execution_count": 1,
   "metadata": {},
   "outputs": [],
   "source": [
    "def display_board(board,count,player_1,player_2):\n",
    "    print(board[7]+\"  |  \"+board[8]+\"  |  \"+board[9])\n",
    "    print(\"--------------\")\n",
    "    print(board[4]+\"  |  \"+board[5]+\"  |  \"+board[6])\n",
    "    print(\"--------------\")\n",
    "    print(board[1]+\"  |  \"+board[2]+\"  |  \"+board[3])\n",
    "    move(count,player_1,player_2)"
   ]
  },
  {
   "cell_type": "code",
   "execution_count": 2,
   "metadata": {},
   "outputs": [],
   "source": [
    "def place_symbol(a,player_1,player_2,count):\n",
    "    board=[0,\" \",\" \",\" \",\" \",\" \",\" \",\" \",\" \",\" \"]\n",
    "    if count%2!=0:\n",
    "        board[a]= player_1\n",
    "        display_board(board,count,player_1,player_2)\n",
    "    elif count%2==0:\n",
    "        board[a]= player_2\n",
    "        display_board(board,count,player_1,player_2)"
   ]
  },
  {
   "cell_type": "code",
   "execution_count": 3,
   "metadata": {},
   "outputs": [],
   "source": [
    "def move(count,player_1,player_2):\n",
    "    a = int(input(\"Enter the number to place your symbol\"))\n",
    "    count= count+1\n",
    "    place_symbol(a,player_1,player_2,count)"
   ]
  },
  {
   "cell_type": "code",
   "execution_count": 4,
   "metadata": {},
   "outputs": [],
   "source": [
    "def permission():\n",
    "    a = input(\"Do you want to play yes or no:\\n\").lower()\n",
    "    if a == \"no\":\n",
    "        print(\"Thankyou\")\n",
    "    elif a == \"yes\":\n",
    "        player_1 = input(\"Player 1: Please choose your symbol X or O:\\n\").upper()\n",
    "        if player_1 == \"X\":\n",
    "            player_2 = \"O\"\n",
    "        else:\n",
    "            player_2 = \"X\"\n",
    "        count=0\n",
    "        move(count,player_1,player_2)"
   ]
  },
  {
   "cell_type": "code",
   "execution_count": null,
   "metadata": {},
   "outputs": [],
   "source": [
    "permission()"
   ]
  },
  {
   "cell_type": "code",
   "execution_count": null,
   "metadata": {},
   "outputs": [],
   "source": []
  }
 ],
 "metadata": {
  "kernelspec": {
   "display_name": "Python 3",
   "language": "python",
   "name": "python3"
  },
  "language_info": {
   "codemirror_mode": {
    "name": "ipython",
    "version": 3
   },
   "file_extension": ".py",
   "mimetype": "text/x-python",
   "name": "python",
   "nbconvert_exporter": "python",
   "pygments_lexer": "ipython3",
   "version": "3.7.4"
  }
 },
 "nbformat": 4,
 "nbformat_minor": 2
}
